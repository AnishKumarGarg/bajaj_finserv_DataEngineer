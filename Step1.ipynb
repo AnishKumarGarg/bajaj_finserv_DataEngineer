import json
import hashlib
from datetime import datetime


def calculate_age(dob):
    if dob:
        dob_date = datetime.strptime(dob.split('T')[0], '%Y-%m-%d') 
        today = datetime.now()
        age = today.year - dob_date.year - ((today.month, today.day) < (dob_date.month, dob_date.day))
        return age
    return None

def validate_and_hash_phone(phone):
    if phone.startswith('+91') or phone.startswith('91'):
        number = phone.replace('+91', '').replace('91', '') 
        if len(number) == 10 and number.isnumeric() and 6000000000 <= int(number) <= 9999999999:
            return hashlib.sha256(number.encode()).hexdigest()  
    return None

with open('DataEngineeringQ2.json', 'r') as file:
    data = json.load(file)

for entry in data:

    if entry['patientDetails']['gender'] == 'M':
        entry['patientDetails']['gender'] = 'male'
    elif entry['patientDetails']['gender'] == 'F':
        entry['patientDetails']['gender'] = 'female'
    else:
        entry['patientDetails']['gender'] = 'others'


    entry['fullName'] = entry['patientDetails']['firstName'] + ' ' + entry['patientDetails']['lastName']

    entry['Age'] = calculate_age(entry['patientDetails']['birthDate'])


    entry['isValidMobile'] = validate_and_hash_phone(entry['phoneNumber'])


print(json.dumps(data, indent=4))
